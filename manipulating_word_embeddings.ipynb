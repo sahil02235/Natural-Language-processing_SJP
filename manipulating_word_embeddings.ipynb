{
  "nbformat": 4,
  "nbformat_minor": 0,
  "metadata": {
    "colab": {
      "name": "manipulating_word_embeddings.ipynb",
      "provenance": [],
      "collapsed_sections": []
    },
    "kernelspec": {
      "name": "python3",
      "display_name": "Python 3"
    }
  },
  "cells": [
    {
      "cell_type": "markdown",
      "metadata": {
        "id": "mHdV_eo0DXNO",
        "colab_type": "text"
      },
      "source": [
        "# pre-trained word embedding for finding word analogies and equivalence"
      ]
    },
    {
      "cell_type": "code",
      "metadata": {
        "id": "3iaGZcYvDSHJ",
        "colab_type": "code",
        "colab": {
          "base_uri": "https://localhost:8080/",
          "height": 34
        },
        "outputId": "5ce214b4-5ce6-4a9a-cf97-8b3a9e975626"
      },
      "source": [
        "import pandas as pd\n",
        "import numpy as np\n",
        "import pickle\n",
        "\n",
        "word_embeddings = pickle.load( open( \"word_embeddings_subset.p\", \"rb\" ) )\n",
        "len(word_embeddings)"
      ],
      "execution_count": 1,
      "outputs": [
        {
          "output_type": "execute_result",
          "data": {
            "text/plain": [
              "243"
            ]
          },
          "metadata": {
            "tags": []
          },
          "execution_count": 1
        }
      ]
    },
    {
      "cell_type": "markdown",
      "metadata": {
        "id": "NI6gTmQoEA19",
        "colab_type": "text"
      },
      "source": [
        "Now that the model is loaded, we can take a look at the word representations. First, note that the _word_embeddings_ is a dictionary. Each word is the key to the entry, and the value is its corresponding vector presentation. Remember that square brackets allow access to any entry if the key exists. "
      ]
    },
    {
      "cell_type": "code",
      "metadata": {
        "id": "us-n06W6D8et",
        "colab_type": "code",
        "colab": {
          "base_uri": "https://localhost:8080/",
          "height": 907
        },
        "outputId": "37ae6556-afd7-44e9-8304-ab5811432b95"
      },
      "source": [
        "countryVector = word_embeddings['country'] # Get the vector representation for the word 'country'\n",
        "print(type(countryVector)) # Print the type of the vector. Note it is a numpy array\n",
        "print(countryVector) # Print the values of the vector.  "
      ],
      "execution_count": 2,
      "outputs": [
        {
          "output_type": "stream",
          "text": [
            "<class 'numpy.ndarray'>\n",
            "[-0.08007812  0.13378906  0.14355469  0.09472656 -0.04736328 -0.02355957\n",
            " -0.00854492 -0.18652344  0.04589844 -0.08154297 -0.03442383 -0.11621094\n",
            "  0.21777344 -0.10351562 -0.06689453  0.15332031 -0.19335938  0.26367188\n",
            " -0.13671875 -0.05566406  0.07470703 -0.00070953  0.09375    -0.14453125\n",
            "  0.04296875 -0.01916504 -0.22558594 -0.12695312 -0.0168457   0.05224609\n",
            "  0.0625     -0.1484375  -0.01965332  0.17578125  0.10644531 -0.04760742\n",
            " -0.10253906 -0.28515625  0.10351562  0.20800781 -0.07617188 -0.04345703\n",
            "  0.08642578  0.08740234  0.11767578  0.20996094 -0.07275391  0.1640625\n",
            " -0.01135254  0.0025177   0.05810547 -0.03222656  0.06884766  0.046875\n",
            "  0.10107422  0.02148438 -0.16210938  0.07128906 -0.16210938  0.05981445\n",
            "  0.05102539 -0.05566406  0.06787109 -0.03759766  0.04345703 -0.03173828\n",
            " -0.03417969 -0.01116943  0.06201172 -0.08007812 -0.14941406  0.11914062\n",
            "  0.02575684  0.00302124  0.04711914 -0.17773438  0.04101562  0.05541992\n",
            "  0.00598145  0.03027344 -0.07666016 -0.109375    0.02832031 -0.10498047\n",
            "  0.0100708  -0.03149414 -0.22363281 -0.03125    -0.01147461  0.17285156\n",
            "  0.08056641 -0.10888672 -0.09570312 -0.21777344 -0.07910156 -0.10009766\n",
            "  0.06396484 -0.11962891  0.18652344 -0.02062988 -0.02172852  0.29296875\n",
            " -0.00793457  0.0324707  -0.15136719  0.00227356 -0.03540039 -0.13378906\n",
            "  0.0546875  -0.03271484 -0.01855469 -0.10302734 -0.13378906  0.11425781\n",
            "  0.16699219  0.01361084 -0.02722168 -0.2109375   0.07177734  0.08691406\n",
            " -0.09960938  0.01422119 -0.18261719  0.00741577  0.01965332  0.00738525\n",
            " -0.03271484 -0.15234375 -0.26367188 -0.14746094  0.03320312 -0.03344727\n",
            " -0.01000977  0.01855469  0.00183868 -0.10498047  0.09667969  0.07910156\n",
            "  0.11181641  0.13085938 -0.08740234 -0.1328125   0.05004883  0.19824219\n",
            "  0.0612793   0.16210938  0.06933594  0.01281738  0.01550293  0.01531982\n",
            "  0.11474609  0.02758789  0.13769531 -0.08349609  0.01123047 -0.20507812\n",
            " -0.12988281 -0.16699219  0.20410156 -0.03588867 -0.10888672  0.0534668\n",
            "  0.15820312 -0.20410156  0.14648438 -0.11572266  0.01855469 -0.13574219\n",
            "  0.24121094  0.12304688 -0.14550781  0.17578125  0.11816406 -0.30859375\n",
            "  0.10888672 -0.22363281  0.19335938 -0.15722656 -0.07666016 -0.09082031\n",
            " -0.19628906 -0.23144531 -0.09130859 -0.14160156  0.06347656  0.03344727\n",
            " -0.03369141  0.06591797  0.06201172  0.3046875   0.16796875 -0.11035156\n",
            " -0.03833008 -0.02563477 -0.09765625  0.04467773 -0.0534668   0.11621094\n",
            " -0.15039062 -0.16308594 -0.15527344  0.04638672  0.11572266 -0.06640625\n",
            " -0.04516602  0.02331543 -0.08105469 -0.0255127  -0.07714844  0.0016861\n",
            "  0.15820312  0.00994873 -0.06445312  0.15722656 -0.03112793  0.10644531\n",
            " -0.140625    0.23535156 -0.11279297  0.16015625  0.00061798 -0.1484375\n",
            "  0.02307129 -0.109375    0.05444336 -0.14160156  0.11621094  0.03710938\n",
            "  0.14746094 -0.04199219 -0.01391602 -0.03881836  0.02783203  0.10205078\n",
            "  0.07470703  0.20898438 -0.04223633 -0.04150391 -0.00588989 -0.14941406\n",
            " -0.04296875 -0.10107422 -0.06176758  0.09472656  0.22265625 -0.02307129\n",
            "  0.04858398 -0.15527344 -0.02282715 -0.04174805  0.16699219 -0.09423828\n",
            "  0.14453125  0.11132812  0.04223633 -0.16699219  0.10253906  0.16796875\n",
            "  0.12597656 -0.11865234 -0.0213623  -0.08056641  0.24316406  0.15527344\n",
            "  0.16503906  0.00854492 -0.12255859  0.08691406 -0.11914062 -0.02941895\n",
            "  0.08349609 -0.03100586  0.13964844 -0.05151367  0.00765991 -0.04443359\n",
            " -0.04980469 -0.03222656 -0.00952148 -0.10888672 -0.10302734 -0.15722656\n",
            "  0.19335938  0.04858398  0.015625   -0.08105469 -0.11621094 -0.01989746\n",
            "  0.05737305  0.06103516 -0.14550781  0.06738281 -0.24414062 -0.07714844\n",
            "  0.04760742 -0.07519531 -0.14941406 -0.04418945  0.09716797  0.06738281]\n"
          ],
          "name": "stdout"
        }
      ]
    },
    {
      "cell_type": "markdown",
      "metadata": {
        "id": "ySJJKStLELrk",
        "colab_type": "text"
      },
      "source": [
        "It is important to note that we store each vector as a NumPy array. It allows us to use the linear algebra operations on it. \n",
        "\n",
        "The vectors have a size of 300, while the vocabulary size of Google News is around 3 million words! "
      ]
    },
    {
      "cell_type": "markdown",
      "metadata": {
        "id": "1G3jc3oWEOwb",
        "colab_type": "text"
      },
      "source": [
        "# Defining vec function for getting vectors for a given word using word_embeddings"
      ]
    },
    {
      "cell_type": "code",
      "metadata": {
        "id": "NQXiXhiPEH2i",
        "colab_type": "code",
        "colab": {}
      },
      "source": [
        "#Get the vector for a given word:\n",
        "def vec(w):\n",
        "    return word_embeddings[w]"
      ],
      "execution_count": 4,
      "outputs": []
    },
    {
      "cell_type": "markdown",
      "metadata": {
        "id": "noEFKXzxEXYk",
        "colab_type": "text"
      },
      "source": [
        "## Operating on word embeddings\n",
        "\n",
        "Remember that understanding the data is one of the most critical steps in Data Science. Word embeddings are the result of machine learning processes and will be part of the input for further processes. These word embedding needs to be validated or at least understood because the performance of the derived model will strongly depend on its quality.\n",
        "\n",
        "Word embeddings are multidimensional arrays, usually with hundreds of attributes that pose a challenge for its interpretation. \n",
        "\n",
        "In this notebook, we will visually inspect the word embedding of some words using a pair of attributes. Raw attributes are not the best option for the creation of such charts but will allow us to illustrate the mechanical part in Python. \n",
        "\n",
        "In the next cell, we make a beautiful plot for the word embeddings of some words. Even if plotting the dots gives an idea of the words, the arrow representations help to visualize the vector's alignment as well."
      ]
    },
    {
      "cell_type": "code",
      "metadata": {
        "id": "joa6wQJvENzy",
        "colab_type": "code",
        "colab": {
          "base_uri": "https://localhost:8080/",
          "height": 592
        },
        "outputId": "784145d9-31dd-45cc-89e0-c77d0223a6c1"
      },
      "source": [
        "import matplotlib.pyplot as plt # Import matplotlib\n",
        "\n",
        "words = ['oil', 'gas', 'happy', 'sad', 'city', 'town', 'village', 'country', 'continent', 'petroleum', 'joyful']\n",
        "\n",
        "bag2d = np.array([vec(word) for word in words]) # Convert each word to its vector representation\n",
        "\n",
        "fig, ax = plt.subplots(figsize = (10, 10)) # Create custom size image\n",
        "\n",
        "col1 = 3 # Select the column for the x axis\n",
        "col2 = 2 # Select the column for the y axis\n",
        "\n",
        "# Print an arrow for each word\n",
        "for word in bag2d:\n",
        "    ax.arrow(0, 0, word[col1], word[col2], head_width=0.005, head_length=0.005, fc='r', ec='r', width = 1e-5)\n",
        "\n",
        "    \n",
        "ax.scatter(bag2d[:, col1], bag2d[:, col2]); # Plot a dot for each word\n",
        "\n",
        "# Add the word label over each dot in the scatter plot\n",
        "for i in range(0, len(words)):\n",
        "    ax.annotate(words[i], (bag2d[i, col1], bag2d[i, col2]))\n",
        "\n",
        "\n",
        "plt.show()"
      ],
      "execution_count": 5,
      "outputs": [
        {
          "output_type": "display_data",
          "data": {
            "image/png": "[encoded data removed]",
            "text/plain": [
              "<Figure size 720x720 with 1 Axes>"
            ]
          },
          "metadata": {
            "tags": [],
            "needs_background": "light"
          }
        }
      ]
    },
    {
      "cell_type": "code",
      "metadata": {
        "id": "dLKPASiJEkCX",
        "colab_type": "code",
        "colab": {}
      },
      "source": [
        ""
      ],
      "execution_count": null,
      "outputs": []
    }
  ]
}